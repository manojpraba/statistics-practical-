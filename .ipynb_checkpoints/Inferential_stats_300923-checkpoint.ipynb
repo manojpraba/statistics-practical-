{
 "cells": [
  {
   "cell_type": "markdown",
   "id": "1307ea44",
   "metadata": {},
   "source": [
    "Z test\n",
    "\n",
    "T test\n",
    "\n",
    "chi - square test"
   ]
  },
  {
   "cell_type": "code",
   "execution_count": 2,
   "id": "4629eb76",
   "metadata": {},
   "outputs": [],
   "source": [
    "import numpy as np\n",
    "import scipy.stats as stats\n"
   ]
  },
  {
   "cell_type": "code",
   "execution_count": 4,
   "id": "3b897e06",
   "metadata": {},
   "outputs": [],
   "source": [
    "sample_mean=110\n",
    "population_mean=100\n",
    "population_std=15\n",
    "sample_size=50\n",
    "alpha=0.05"
   ]
  },
  {
   "cell_type": "code",
   "execution_count": 10,
   "id": "4f593d4b",
   "metadata": {},
   "outputs": [],
   "source": [
    "confidence_interval=1-0.05"
   ]
  },
  {
   "cell_type": "code",
   "execution_count": 8,
   "id": "0351d607",
   "metadata": {},
   "outputs": [],
   "source": [
    "Z_score=(sample_mean-population_mean)/(population_std/np.sqrt(50))"
   ]
  },
  {
   "cell_type": "code",
   "execution_count": 9,
   "id": "201c96f0",
   "metadata": {},
   "outputs": [
    {
     "data": {
      "text/plain": [
       "4.714045207910317"
      ]
     },
     "execution_count": 9,
     "metadata": {},
     "output_type": "execute_result"
    }
   ],
   "source": [
    "Z_score"
   ]
  },
  {
   "cell_type": "code",
   "execution_count": 13,
   "id": "d062aaf6",
   "metadata": {},
   "outputs": [],
   "source": [
    "z_critical=stats.norm.ppf(confidence_interval)"
   ]
  },
  {
   "cell_type": "code",
   "execution_count": 14,
   "id": "f16a3fa2",
   "metadata": {},
   "outputs": [
    {
     "name": "stdout",
     "output_type": "stream",
     "text": [
      "reject null hypothesis\n"
     ]
    }
   ],
   "source": [
    "if Z_score>z_critical:\n",
    "    print(\"reject null hypothesis\")\n",
    "else:\n",
    "    print(\"Fail to reject the null hypothesis\")"
   ]
  },
  {
   "cell_type": "code",
   "execution_count": 15,
   "id": "47474d2c",
   "metadata": {},
   "outputs": [],
   "source": [
    "pvalue=1-0.9999966"
   ]
  },
  {
   "cell_type": "code",
   "execution_count": 17,
   "id": "f514d7ec",
   "metadata": {},
   "outputs": [
    {
     "data": {
      "text/plain": [
       "3.399999999986747e-06"
      ]
     },
     "execution_count": 17,
     "metadata": {},
     "output_type": "execute_result"
    }
   ],
   "source": [
    "pvalue"
   ]
  },
  {
   "cell_type": "code",
   "execution_count": 16,
   "id": "060e7c1f",
   "metadata": {},
   "outputs": [
    {
     "name": "stdout",
     "output_type": "stream",
     "text": [
      "reject the null hypothesis\n"
     ]
    }
   ],
   "source": [
    "if pvalue<alpha:\n",
    "    print(\"reject the null hypothesis\")\n",
    "else:\n",
    "    print(\"Fail to reject the null hypo\")"
   ]
  },
  {
   "cell_type": "code",
   "execution_count": 19,
   "id": "80bbb885",
   "metadata": {},
   "outputs": [],
   "source": [
    "my_data= np.random.randn(500)"
   ]
  },
  {
   "cell_type": "code",
   "execution_count": 21,
   "id": "5b388303",
   "metadata": {},
   "outputs": [
    {
     "name": "stderr",
     "output_type": "stream",
     "text": [
      "C:\\Users\\mmanoj\\AppData\\Local\\Temp\\ipykernel_9876\\4064858540.py:2: UserWarning: \n",
      "\n",
      "`distplot` is a deprecated function and will be removed in seaborn v0.14.0.\n",
      "\n",
      "Please adapt your code to use either `displot` (a figure-level function with\n",
      "similar flexibility) or `histplot` (an axes-level function for histograms).\n",
      "\n",
      "For a guide to updating your code to use the new functions, please see\n",
      "https://gist.github.com/mwaskom/de44147ed2974457ad6372750bbe5751\n",
      "\n",
      "  sns.distplot(my_data)\n"
     ]
    },
    {
     "data": {
      "text/plain": [
       "<Axes: ylabel='Density'>"
      ]
     },
     "execution_count": 21,
     "metadata": {},
     "output_type": "execute_result"
    },
    {
     "data": {
      "image/png": "[encoded data removed]",
      "text/plain": [
       "<Figure size 640x480 with 1 Axes>"
      ]
     },
     "metadata": {},
     "output_type": "display_data"
    }
   ],
   "source": [
    "import seaborn as sns\n",
    "sns.distplot(my_data)"
   ]
  },
  {
   "cell_type": "code",
   "execution_count": 22,
   "id": "0e51027c",
   "metadata": {},
   "outputs": [
    {
     "data": {
      "text/plain": [
       "NormaltestResult(statistic=4.257520004330849, pvalue=0.11898474323902036)"
      ]
     },
     "execution_count": 22,
     "metadata": {},
     "output_type": "execute_result"
    }
   ],
   "source": [
    "from scipy import stats\n",
    "stats.normaltest(my_data)"
   ]
  },
  {
   "cell_type": "code",
   "execution_count": 23,
   "id": "7c6bc746",
   "metadata": {},
   "outputs": [],
   "source": [
    "sample_man=110\n",
    "alpha=0.05\n",
    "CI=0.95\n",
    "mena_population=100\n",
    "population_std=15"
   ]
  },
  {
   "cell_type": "code",
   "execution_count": null,
   "id": "08a2c336",
   "metadata": {},
   "outputs": [],
   "source": []
  },
  {
   "cell_type": "markdown",
   "id": "67f6f9d1",
   "metadata": {},
   "source": [
    "T- test"
   ]
  },
  {
   "cell_type": "markdown",
   "id": "be8dc542",
   "metadata": {},
   "source": [
    "one sample T tes - one independent sample\n",
    "two sample - two independent sample\n",
    "paired t - test - two sample from the same population or diff time interval"
   ]
  },
  {
   "cell_type": "code",
   "execution_count": 26,
   "id": "d753c899",
   "metadata": {},
   "outputs": [],
   "source": [
    "#Paired sample T  - test\n",
    "# take a sample from sample \n",
    "\n",
    "population=np.random.randint(10,80,50)"
   ]
  },
  {
   "cell_type": "code",
   "execution_count": 28,
   "id": "bd00bcb8",
   "metadata": {},
   "outputs": [
    {
     "data": {
      "text/plain": [
       "50"
      ]
     },
     "execution_count": 28,
     "metadata": {},
     "output_type": "execute_result"
    }
   ],
   "source": [
    "len(population)"
   ]
  },
  {
   "cell_type": "code",
   "execution_count": 31,
   "id": "d8675bc5",
   "metadata": {},
   "outputs": [],
   "source": [
    "my_cricket_scpre_first_inngs=np.random.choice(population,size=20)"
   ]
  },
  {
   "cell_type": "code",
   "execution_count": 30,
   "id": "0739b819",
   "metadata": {},
   "outputs": [],
   "source": [
    "my_cri_score_second_inngs=np.random.choice(population,size=20)"
   ]
  },
  {
   "cell_type": "code",
   "execution_count": 35,
   "id": "b73d069b",
   "metadata": {},
   "outputs": [
    {
     "name": "stdout",
     "output_type": "stream",
     "text": [
      "[22 30 29 63 39 37 71 61 34 34 35 47 69 22 53 77 69 22 34 48]\n",
      "============================================================\n",
      "[75 65 40 68 53 29 19 77 41 44 75 35 35 62 50 53 48 41 78 41]\n"
     ]
    }
   ],
   "source": [
    "print(my_cricket_scpre_first_inngs)\n",
    "print(60*\"=\")\n",
    "print(my_cri_score_second_inngs)"
   ]
  },
  {
   "cell_type": "code",
   "execution_count": 40,
   "id": "87351cbd",
   "metadata": {},
   "outputs": [
    {
     "data": {
      "text/plain": [
       "44.8"
      ]
     },
     "execution_count": 40,
     "metadata": {},
     "output_type": "execute_result"
    }
   ],
   "source": [
    "np.mean(my_cricket_scpre_first_inngs)"
   ]
  },
  {
   "cell_type": "code",
   "execution_count": 42,
   "id": "d159b974",
   "metadata": {},
   "outputs": [
    {
     "data": {
      "text/plain": [
       "51.45"
      ]
     },
     "execution_count": 42,
     "metadata": {},
     "output_type": "execute_result"
    }
   ],
   "source": [
    "np.mean(my_cri_score_second_inngs)"
   ]
  },
  {
   "cell_type": "code",
   "execution_count": 45,
   "id": "d508287c",
   "metadata": {},
   "outputs": [],
   "source": [
    "import scipy.stats \n",
    "_,p1value=scipy.stats.ttest_rel(my_cricket_scpre_first_inngs,my_cri_score_second_inngs)"
   ]
  },
  {
   "cell_type": "code",
   "execution_count": 46,
   "id": "9df68bf4",
   "metadata": {},
   "outputs": [
    {
     "data": {
      "text/plain": [
       "0.29575698652726107"
      ]
     },
     "execution_count": 46,
     "metadata": {},
     "output_type": "execute_result"
    }
   ],
   "source": [
    "p1value"
   ]
  },
  {
   "cell_type": "code",
   "execution_count": 47,
   "id": "979f68d9",
   "metadata": {},
   "outputs": [
    {
     "name": "stdout",
     "output_type": "stream",
     "text": [
      "fail to reject\n"
     ]
    }
   ],
   "source": [
    "\n",
    "if p1value<=0.05:\n",
    "    print(\"reject the null hypo\")\n",
    "else:\n",
    "    print(\"fail to reject\")"
   ]
  }
 ],
 "metadata": {
  "kernelspec": {
   "display_name": "Python 3 (ipykernel)",
   "language": "python",
   "name": "python3"
  },
  "language_info": {
   "codemirror_mode": {
    "name": "ipython",
    "version": 3
   },
   "file_extension": ".py",
   "mimetype": "text/x-python",
   "name": "python",
   "nbconvert_exporter": "python",
   "pygments_lexer": "ipython3",
   "version": "3.10.9"
  }
 },
 "nbformat": 4,
 "nbformat_minor": 5
}
